{
 "cells": [
  {
   "cell_type": "markdown",
   "metadata": {},
   "source": [
    "# NeurIPS Single-Cell Perturbation Response Prediction\n",
    "This notebook demonstrates the data preprocessing pipeline for the NeurIPS single-cell perturbation response prediction task. It includes:\n",
    "1. Data loading and AnnData object creation\n",
    "2. Preprocessing of perturbation data\n",
    "3. Train-test-OOD (out-of-distribution) splitting for evaluation\n",
    "\n",
    "## Required Libraries\n",
    "The following libraries are needed to run this notebook:"
   ]
  },
  {
   "cell_type": "code",
   "execution_count": 1,
   "metadata": {},
   "outputs": [],
   "source": [
    "import pandas as pd\n",
    "import scanpy as sc\n",
    "from CRISP.utils import rank_genes_groups_by_cov\n",
    "import numpy as np\n",
    "import CRISP.scFM as scFM"
   ]
  },
  {
   "cell_type": "markdown",
   "metadata": {},
   "source": [
    "### Required Input Files:\n",
    "\n",
    "1. **adata_obs_meta.csv**: Contains metadata for each observation (cell), including:\n",
    "\n",
    "    - `obs_id`: Unique identifier for each cell\n",
    "    - `cell_type`: Cell type classification (e.g., 'T cells CD4+', 'B cells')\n",
    "    - `donor_id`: Donor identifier \n",
    "    - `sm_name`: Small molecule (drug) name\n",
    "    - `dose_uM`: Drug concentration in µM\n",
    "    - `control`: Binary indicator for control samples\n",
    "    - `SMILES`: SMILES notation representing drug molecular structure\n",
    "\n",
    "2. **adata_train.parquet**: Contains gene expression data with columns:\n",
    "    - `obs_id`: Identifier linking to metadata\n",
    "    - `gene`: Gene identifier\n",
    "    - `normalized_count`: Normalized expression value\n",
    "\n",
    "3. **de_train.parquet**: Contains differential expression data, with genes as columns (column 5 onwards).\n",
    "\n",
    "The final AnnData object will have the following structure:\n",
    "- `adata.X`: Gene expression matrix (cells × genes)\n",
    "- `adata.obs`: Cell metadata with additional computed fields\n",
    "- `adata.var`: Gene metadata\n",
    "\n",
    "Critical fields in the processed data include:\n",
    "- `condition`: Drug name (alphanumeric only)\n",
    "- `cell_type`: Type of cell\n",
    "- `neg_control`: Binary indicator for negative control (DMSO treatment)\n",
    "- `dose_val`: Normalized drug concentration\n",
    "\n",
    "Let's start by loading the raw data:"
   ]
  },
  {
   "cell_type": "code",
   "execution_count": null,
   "metadata": {},
   "outputs": [],
   "source": [
    "# raw data can be downloaded in NeurIPS competition website: https://www.kaggle.com/competitions/open-problems-single-cell-perturbations/data?select=sample_submission.csv\n",
    "obs_meta = pd.read_csv('raw/adata_obs_meta.csv')\n",
    "adata_train = pd.read_parquet('raw/adata_train.parquet')\n",
    "de_train = pd.read_parquet('raw/de_train.parquet')"
   ]
  },
  {
   "cell_type": "markdown",
   "metadata": {},
   "source": [
    "## Creating AnnData Object\n",
    "We'll now process the raw data to create an AnnData object, which is the standard format for single-cell analysis in the scanpy ecosystem. The process involves:\n",
    "1. Creating indices for mapping cells and genes\n",
    "2. Constructing a sparse matrix of gene expression values\n",
    "3. Building a complete AnnData object with metadata"
   ]
  },
  {
   "cell_type": "code",
   "execution_count": null,
   "metadata": {},
   "outputs": [],
   "source": [
    "# Create dictionaries to map observation IDs and gene names to indices\n",
    "obs_idx_dict = dict(zip(obs_meta['obs_id'].values,list(obs_meta.index)))\n",
    "gene_idx_dict = dict(zip(list(de_train.columns)[5:],list(range(len(list(de_train.columns)[5:])))))"
   ]
  },
  {
   "cell_type": "code",
   "execution_count": null,
   "metadata": {},
   "outputs": [],
   "source": [
    "# Map observation IDs to indices\n",
    "adata_train['obs_idx'] = adata_train['obs_id'].apply(lambda i: obs_idx_dict[i])\n",
    "# Map gene names to indices, handling cases where genes might not be in the dictionary\n",
    "def map_gene_idx(i):\n",
    "    try:\n",
    "        a = gene_idx_dict[i]\n",
    "    except:\n",
    "        a = None\n",
    "    return a"
   ]
  },
  {
   "cell_type": "code",
   "execution_count": null,
   "metadata": {},
   "outputs": [],
   "source": [
    "# Apply gene index mapping and filter out genes not in the dictionary\n",
    "adata_train['gene_idx'] = adata_train['gene'].apply(map_gene_idx)\n",
    "adata_train_sub = adata_train[~adata_train['gene_idx'].isna()]\n",
    "adata_train_sub['gene_idx'] = adata_train_sub['gene_idx'].astype(int)"
   ]
  },
  {
   "cell_type": "code",
   "execution_count": null,
   "metadata": {},
   "outputs": [],
   "source": [
    "# Create a sparse matrix from the normalized counts\n",
    "from scipy.sparse import coo_matrix\n",
    "from anndata import AnnData\n",
    "sparse_matrix = coo_matrix((adata_train_sub['normalized_count'], (adata_train_sub['obs_idx'], adata_train_sub['gene_idx'])))\n",
    "adata = AnnData(X=sparse_matrix)"
   ]
  },
  {
   "cell_type": "code",
   "execution_count": null,
   "metadata": {},
   "outputs": [],
   "source": [
    "# Add metadata to the AnnData object\n",
    "adata.obs = obs_meta\n",
    "adata.obs_names = obs_meta['obs_id'].values\n",
    "adata.X = adata.X.tocsc()\n",
    "adata.var_names = list(gene_idx_dict.keys())\n",
    "adata.var['gene_id'] = list(gene_idx_dict.keys())"
   ]
  },
  {
   "cell_type": "code",
   "execution_count": null,
   "metadata": {},
   "outputs": [],
   "source": [
    "sc.write('adata_pp.h5ad',adata)"
   ]
  },
  {
   "cell_type": "markdown",
   "metadata": {},
   "source": [
    "## Preprocessing the Data\n",
    "\n",
    "Now we'll preprocess the data by:\n",
    "1. Cleaning and standardizing drug names\n",
    "2. Creating normalized dose values\n",
    "3. Generating composite covariates for cell type, drug, and dose combinations\n",
    "4. Setting control indicators\n",
    "\n",
    "These preprocessing steps create several critical fields required for the drug response prediction task:"
   ]
  },
  {
   "cell_type": "code",
   "execution_count": null,
   "metadata": {},
   "outputs": [],
   "source": [
    "adata = sc.read('adata_pp.h5ad')"
   ]
  },
  {
   "cell_type": "code",
   "execution_count": null,
   "metadata": {},
   "outputs": [],
   "source": [
    "import re\n",
    "\n",
    "# Function to clean drug names by removing non-alphanumeric characters\n",
    "def remove_non_alphanumeric(input_string):\n",
    "    return re.sub(r'[^a-zA-Z0-9]', '', input_string)\n",
    "\n",
    "# Create and standardize required fields\n",
    "# 1. Clean drug condition names\n",
    "adata.obs['condition'] = adata.obs['sm_name']\n",
    "adata.obs['condition'] = adata.obs['condition'].apply(remove_non_alphanumeric)\n",
    "adata.obs['condition'] = adata.obs['condition'].replace('DimethylSulfoxide','DMSO')\n",
    "\n",
    "# 2. Normalize dose values to [0,1] range\n",
    "adata.obs['dose_val'] = adata.obs['dose_uM'].astype(float) / np.max(adata.obs['dose_uM'].astype(float))\n",
    "\n",
    "# 3. Create composite covariates for analysis\n",
    "# This combines cell type, drug, and dose information into single identifiers\n",
    "adata.obs['cov_drug_dose_name'] = adata.obs.cell_type.astype(str) + '_' + adata.obs.condition.astype(str) + '_' + adata.obs.dose_val.astype(str)\n",
    "adata.obs['cov_drug_name'] = adata.obs.cell_type.astype(str) + '_' + adata.obs.condition.astype(str)\n",
    "adata.obs['eval_category'] = adata.obs['cov_drug_name']\n",
    "\n",
    "# 4. Convert control indicators to integers\n",
    "adata.obs['control'] = adata.obs['control'].astype(int)\n",
    "\n",
    "# 5. Create additional identifiers for different analysis levels\n",
    "adata.obs['drug_dose_name'] = adata.obs.condition.astype(str) + '_' + adata.obs.dose_val.astype(str)\n",
    "adata.obs['neg_control'] = (adata.obs['condition']=='DMSO').astype(int)"
   ]
  },
  {
   "cell_type": "markdown",
   "metadata": {},
   "source": [
    "### Filtering by Covariate Frequency\n",
    "\n",
    "We'll filter out drug-cell type combinations with fewer than 5 samples to ensure robustness in the analysis:"
   ]
  },
  {
   "cell_type": "code",
   "execution_count": null,
   "metadata": {},
   "outputs": [],
   "source": [
    "# Count occurrences of each cell type-drug combination\n",
    "a = pd.DataFrame(adata.obs.cov_drug_name.value_counts())\n",
    "# Identify combinations with fewer than 5 samples\n",
    "type_drug_less_index = a[a['cov_drug_name'] < 5].index\n",
    "# Filter the AnnData object to keep only well-represented combinations\n",
    "adata_filtered = adata[~adata.obs['cov_drug_name'].isin(type_drug_less_index)]"
   ]
  },
  {
   "cell_type": "markdown",
   "metadata": {},
   "source": [
    "### Differential Expression Analysis\n",
    "Now we'll perform differential expression analysis to identify genes responding to perturbations:"
   ]
  },
  {
   "cell_type": "code",
   "execution_count": null,
   "metadata": {},
   "outputs": [],
   "source": [
    "# Perform differential expression analysis using the rank_genes_groups_by_cov function\n",
    "# This identifies genes differentially expressed between drug conditions while accounting for cell type\n",
    "rank_genes_groups_by_cov(adata_filtered, groupby='cov_drug_name', covariate='cell_type', control_group='DMSO')\n",
    "\n",
    "# The results are stored in adata_filtered.uns['rank_genes_groups']"
   ]
  },
  {
   "cell_type": "markdown",
   "metadata": {},
   "source": [
    "### Drug Structure Canonicalization\n",
    "For drug response prediction, we'll canonicalize SMILES strings to ensure consistent representation of drug structures:"
   ]
  },
  {
   "cell_type": "code",
   "execution_count": null,
   "metadata": {},
   "outputs": [],
   "source": [
    "# Canonicalize SMILES strings for consistent drug structure representation\n",
    "from rdkit import Chem\n",
    "smiles_list = adata_filtered.obs.SMILES.apply(lambda s: Chem.CanonSmiles(s))"
   ]
  },
  {
   "cell_type": "markdown",
   "metadata": {},
   "source": [
    "### Calculate scGPT Embeddings\n",
    "We'll use scGPT to generate embeddings that capture the gene expression patterns:"
   ]
  },
  {
   "cell_type": "code",
   "execution_count": null,
   "metadata": {},
   "outputs": [],
   "source": [
    "# Set the path to the pre-trained scGPT model (use 'blood' version for immune cells)\n",
    "model_path = '/path/to/scGPT/model' # use blood\n",
    "# Calculate scGPT embeddings and store them in the AnnData object\n",
    "adata_filtered = scFM.calc_gpt(adata_filtered,model_path,gene_name='gene_name',return_key='X_scGPT')"
   ]
  },
  {
   "cell_type": "markdown",
   "metadata": {},
   "source": [
    "## Train-test-ood split\n",
    "\n",
    "We'll create multiple train-test-OOD (out-of-distribution) splits to evaluate model performance. This is a crucial step for assessing how well the model generalizes to:\n",
    "1. New samples from known cell types and drugs (test set)\n",
    "2. New cell types not seen during training (OOD set)\n",
    "\n",
    "First, let's define a function for creating these splits:"
   ]
  },
  {
   "cell_type": "code",
   "execution_count": null,
   "metadata": {},
   "outputs": [],
   "source": [
    "def split_dataset(adata,cell_types_inood,split_key):\n",
    "    # set all ood cell type samples as ood\n",
    "    adata.obs[split_key] = 'train'\n",
    "    setout_idx = adata[adata.obs.cell_type.isin(cell_types_inood)].obs.index\n",
    "    adata.obs[split_key].loc[setout_idx] = 'ood'\n",
    "\n",
    "    # set 20% left samples as test\n",
    "    def stratified_sample(group):\n",
    "        return group.sample(frac=0.2) \n",
    "\n",
    "    settest_idx = adata[adata.obs[split_key] != 'ood'].obs.groupby(['cell_type','donor_id','condition'], group_keys=False).apply(stratified_sample).index\n",
    "    adata.obs[split_key].loc[settest_idx] = 'test'\n",
    "\n",
    "    # set 75% unperturbed ood cell type samples as train\n",
    "    def stratified_sample(group):\n",
    "        return group.sample(frac=0.75)\n",
    "    settrain_idx = adata[(adata.obs[split_key] == 'ood') & (adata.obs.neg_control == 1)].obs.groupby(['cell_type','donor_id','condition'], group_keys=False).apply(stratified_sample).index\n",
    "    adata.obs[split_key].loc[settrain_idx] = 'train'\n"
   ]
  },
  {
   "cell_type": "code",
   "execution_count": null,
   "metadata": {},
   "outputs": [],
   "source": [
    "adata = split_dataset(adata,['Myeloid cells','T regulatory cells'],'split')\n",
    "adata = split_dataset(adata,['T cells CD4+','B cells'],'split2')\n",
    "adata = split_dataset(adata,['T cells CD8+','NK cells'],'split3')"
   ]
  },
  {
   "cell_type": "code",
   "execution_count": 6,
   "metadata": {},
   "outputs": [
    {
     "data": {
      "text/html": [
       "<div>\n",
       "<style scoped>\n",
       "    .dataframe tbody tr th:only-of-type {\n",
       "        vertical-align: middle;\n",
       "    }\n",
       "\n",
       "    .dataframe tbody tr th {\n",
       "        vertical-align: top;\n",
       "    }\n",
       "\n",
       "    .dataframe thead th {\n",
       "        text-align: right;\n",
       "    }\n",
       "</style>\n",
       "<table border=\"1\" class=\"dataframe\">\n",
       "  <thead>\n",
       "    <tr style=\"text-align: right;\">\n",
       "      <th>cell_type</th>\n",
       "      <th>B cells</th>\n",
       "      <th>Myeloid cells</th>\n",
       "      <th>NK cells</th>\n",
       "      <th>T cells CD4+</th>\n",
       "      <th>T cells CD8+</th>\n",
       "      <th>T regulatory cells</th>\n",
       "    </tr>\n",
       "    <tr>\n",
       "      <th>split</th>\n",
       "      <th></th>\n",
       "      <th></th>\n",
       "      <th></th>\n",
       "      <th></th>\n",
       "      <th></th>\n",
       "      <th></th>\n",
       "    </tr>\n",
       "  </thead>\n",
       "  <tbody>\n",
       "    <tr>\n",
       "      <th>ood</th>\n",
       "      <td>0</td>\n",
       "      <td>11264</td>\n",
       "      <td>0</td>\n",
       "      <td>0</td>\n",
       "      <td>0</td>\n",
       "      <td>7418</td>\n",
       "    </tr>\n",
       "    <tr>\n",
       "      <th>test</th>\n",
       "      <td>2217</td>\n",
       "      <td>0</td>\n",
       "      <td>10675</td>\n",
       "      <td>22849</td>\n",
       "      <td>2849</td>\n",
       "      <td>0</td>\n",
       "    </tr>\n",
       "    <tr>\n",
       "      <th>train</th>\n",
       "      <td>8863</td>\n",
       "      <td>0</td>\n",
       "      <td>42703</td>\n",
       "      <td>91344</td>\n",
       "      <td>11415</td>\n",
       "      <td>0</td>\n",
       "    </tr>\n",
       "  </tbody>\n",
       "</table>\n",
       "</div>"
      ],
      "text/plain": [
       "cell_type  B cells  Myeloid cells  NK cells  T cells CD4+  T cells CD8+  \\\n",
       "split                                                                     \n",
       "ood              0          11264         0             0             0   \n",
       "test          2217              0     10675         22849          2849   \n",
       "train         8863              0     42703         91344         11415   \n",
       "\n",
       "cell_type  T regulatory cells  \n",
       "split                          \n",
       "ood                      7418  \n",
       "test                        0  \n",
       "train                       0  "
      ]
     },
     "execution_count": 6,
     "metadata": {},
     "output_type": "execute_result"
    }
   ],
   "source": [
    "pd.crosstab(adata[adata.obs['neg_control']==0].obs['split'],adata[adata.obs['neg_control']==0].obs['cell_type'])"
   ]
  },
  {
   "cell_type": "code",
   "execution_count": 7,
   "metadata": {},
   "outputs": [
    {
     "data": {
      "text/html": [
       "<div>\n",
       "<style scoped>\n",
       "    .dataframe tbody tr th:only-of-type {\n",
       "        vertical-align: middle;\n",
       "    }\n",
       "\n",
       "    .dataframe tbody tr th {\n",
       "        vertical-align: top;\n",
       "    }\n",
       "\n",
       "    .dataframe thead th {\n",
       "        text-align: right;\n",
       "    }\n",
       "</style>\n",
       "<table border=\"1\" class=\"dataframe\">\n",
       "  <thead>\n",
       "    <tr style=\"text-align: right;\">\n",
       "      <th>cell_type</th>\n",
       "      <th>B cells</th>\n",
       "      <th>Myeloid cells</th>\n",
       "      <th>NK cells</th>\n",
       "      <th>T cells CD4+</th>\n",
       "      <th>T cells CD8+</th>\n",
       "      <th>T regulatory cells</th>\n",
       "    </tr>\n",
       "    <tr>\n",
       "      <th>split2</th>\n",
       "      <th></th>\n",
       "      <th></th>\n",
       "      <th></th>\n",
       "      <th></th>\n",
       "      <th></th>\n",
       "      <th></th>\n",
       "    </tr>\n",
       "  </thead>\n",
       "  <tbody>\n",
       "    <tr>\n",
       "      <th>ood</th>\n",
       "      <td>11080</td>\n",
       "      <td>0</td>\n",
       "      <td>0</td>\n",
       "      <td>114193</td>\n",
       "      <td>0</td>\n",
       "      <td>0</td>\n",
       "    </tr>\n",
       "    <tr>\n",
       "      <th>test</th>\n",
       "      <td>0</td>\n",
       "      <td>2253</td>\n",
       "      <td>10684</td>\n",
       "      <td>0</td>\n",
       "      <td>2854</td>\n",
       "      <td>1491</td>\n",
       "    </tr>\n",
       "    <tr>\n",
       "      <th>train</th>\n",
       "      <td>0</td>\n",
       "      <td>9011</td>\n",
       "      <td>42694</td>\n",
       "      <td>0</td>\n",
       "      <td>11410</td>\n",
       "      <td>5927</td>\n",
       "    </tr>\n",
       "  </tbody>\n",
       "</table>\n",
       "</div>"
      ],
      "text/plain": [
       "cell_type  B cells  Myeloid cells  NK cells  T cells CD4+  T cells CD8+  \\\n",
       "split2                                                                    \n",
       "ood          11080              0         0        114193             0   \n",
       "test             0           2253     10684             0          2854   \n",
       "train            0           9011     42694             0         11410   \n",
       "\n",
       "cell_type  T regulatory cells  \n",
       "split2                         \n",
       "ood                         0  \n",
       "test                     1491  \n",
       "train                    5927  "
      ]
     },
     "execution_count": 7,
     "metadata": {},
     "output_type": "execute_result"
    }
   ],
   "source": [
    "pd.crosstab(adata[adata.obs['neg_control']==0].obs['split2'],adata[adata.obs['neg_control']==0].obs['cell_type'])"
   ]
  },
  {
   "cell_type": "code",
   "execution_count": 8,
   "metadata": {},
   "outputs": [
    {
     "data": {
      "text/html": [
       "<div>\n",
       "<style scoped>\n",
       "    .dataframe tbody tr th:only-of-type {\n",
       "        vertical-align: middle;\n",
       "    }\n",
       "\n",
       "    .dataframe tbody tr th {\n",
       "        vertical-align: top;\n",
       "    }\n",
       "\n",
       "    .dataframe thead th {\n",
       "        text-align: right;\n",
       "    }\n",
       "</style>\n",
       "<table border=\"1\" class=\"dataframe\">\n",
       "  <thead>\n",
       "    <tr style=\"text-align: right;\">\n",
       "      <th>cell_type</th>\n",
       "      <th>B cells</th>\n",
       "      <th>Myeloid cells</th>\n",
       "      <th>NK cells</th>\n",
       "      <th>T cells CD4+</th>\n",
       "      <th>T cells CD8+</th>\n",
       "      <th>T regulatory cells</th>\n",
       "    </tr>\n",
       "    <tr>\n",
       "      <th>split3</th>\n",
       "      <th></th>\n",
       "      <th></th>\n",
       "      <th></th>\n",
       "      <th></th>\n",
       "      <th></th>\n",
       "      <th></th>\n",
       "    </tr>\n",
       "  </thead>\n",
       "  <tbody>\n",
       "    <tr>\n",
       "      <th>ood</th>\n",
       "      <td>0</td>\n",
       "      <td>0</td>\n",
       "      <td>53378</td>\n",
       "      <td>0</td>\n",
       "      <td>14264</td>\n",
       "      <td>0</td>\n",
       "    </tr>\n",
       "    <tr>\n",
       "      <th>test</th>\n",
       "      <td>2214</td>\n",
       "      <td>2253</td>\n",
       "      <td>0</td>\n",
       "      <td>22846</td>\n",
       "      <td>0</td>\n",
       "      <td>1491</td>\n",
       "    </tr>\n",
       "    <tr>\n",
       "      <th>train</th>\n",
       "      <td>8866</td>\n",
       "      <td>9011</td>\n",
       "      <td>0</td>\n",
       "      <td>91347</td>\n",
       "      <td>0</td>\n",
       "      <td>5927</td>\n",
       "    </tr>\n",
       "  </tbody>\n",
       "</table>\n",
       "</div>"
      ],
      "text/plain": [
       "cell_type  B cells  Myeloid cells  NK cells  T cells CD4+  T cells CD8+  \\\n",
       "split3                                                                    \n",
       "ood              0              0     53378             0         14264   \n",
       "test          2214           2253         0         22846             0   \n",
       "train         8866           9011         0         91347             0   \n",
       "\n",
       "cell_type  T regulatory cells  \n",
       "split3                         \n",
       "ood                         0  \n",
       "test                     1491  \n",
       "train                    5927  "
      ]
     },
     "execution_count": 8,
     "metadata": {},
     "output_type": "execute_result"
    }
   ],
   "source": [
    "pd.crosstab(adata[adata.obs['neg_control']==0].obs['split3'],adata[adata.obs['neg_control']==0].obs['cell_type'])"
   ]
  }
 ],
 "metadata": {
  "kernelspec": {
   "display_name": "Python 3",
   "language": "python",
   "name": "python3"
  },
  "language_info": {
   "codemirror_mode": {
    "name": "ipython",
    "version": 3
   },
   "file_extension": ".py",
   "mimetype": "text/x-python",
   "name": "python",
   "nbconvert_exporter": "python",
   "pygments_lexer": "ipython3",
   "version": "3.9.20"
  }
 },
 "nbformat": 4,
 "nbformat_minor": 2
}
