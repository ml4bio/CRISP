{
 "cells": [
  {
   "cell_type": "markdown",
   "metadata": {},
   "source": [
    "This notebook is the preprocessing code for SciPlex3 dataset. We have provided processed data in https://drive.google.com/drive/folders/1QWjmpYZMaqxfLwIeLjwoz-H9vX60udeu?usp=drive_link for you to use directly."
   ]
  },
  {
   "cell_type": "code",
   "execution_count": 2,
   "metadata": {},
   "outputs": [],
   "source": [
    "import numpy as np\n",
    "import pandas as pd\n",
    "import scanpy as sc\n",
    "from CRISP.utils import rank_genes_groups_by_cov\n",
    "import CRISP.scFM as scFM"
   ]
  },
  {
   "cell_type": "markdown",
   "metadata": {},
   "source": [
    "### Load and preprocess raw data"
   ]
  },
  {
   "cell_type": "code",
   "execution_count": null,
   "metadata": {},
   "outputs": [],
   "source": [
    "DATA_DIR = \"raw/data/path\" # we use raw SciPlex3 data provided by chemCPA\n",
    "adatas = []\n",
    "for i in range(5):\n",
    "    adatas.append(sc.read(DATA_DIR+'datasets/'+f'sciplex_raw_chunk_{i}.h5ad'))\n",
    "adata = adatas[0].concatenate(adatas[1:])"
   ]
  },
  {
   "cell_type": "code",
   "execution_count": 7,
   "metadata": {},
   "outputs": [],
   "source": [
    "sc.pp.normalize_per_cell(adata)\n",
    "sc.pp.log1p(adata)"
   ]
  },
  {
   "cell_type": "code",
   "execution_count": 13,
   "metadata": {},
   "outputs": [],
   "source": [
    "import re\n",
    "def remove_special_characters(input_string):\n",
    "    cleaned_string = re.sub(r'[^a-zA-Z0-9\\s\\(\\)\\-\\+]', '', input_string)\n",
    "    return cleaned_string"
   ]
  },
  {
   "cell_type": "code",
   "execution_count": 14,
   "metadata": {},
   "outputs": [],
   "source": [
    "adata.obs['condition'] = adata.obs.product_name.copy()\n",
    "adata.obs['condition'] = [x.split(' ')[0] for x in adata.obs['condition']]\n",
    "adata.obs[\"condition\"] = adata.obs[\"condition\"].astype('category').cat.rename_categories({\"(+)-JQ1\": \"JQ1\"})\n",
    "adata.obs[\"condition\"] = adata.obs[\"condition\"].cat.rename_categories({\"Vehicle\": \"control\"})\n",
    "adata.obs['condition'] = adata.obs['condition'].apply(remove_special_characters)"
   ]
  },
  {
   "cell_type": "code",
   "execution_count": 15,
   "metadata": {},
   "outputs": [],
   "source": [
    "adata.obs['dose_val'] = adata.obs['dose'].astype(float) / np.max(adata.obs['dose'].astype(float))\n",
    "adata.obs['drug_dose_name'] = adata.obs.condition.astype(str) + '_' + adata.obs.dose_val.astype(str)\n",
    "adata.obs['cov_drug_dose_name'] = adata.obs.cell_type.astype(str) + '_' + adata.obs.drug_dose_name.astype(str)\n",
    "adata.obs['cov_drug_name'] = adata.obs.cell_type.astype(str) + '_' + adata.obs.condition.astype(str)\n",
    "adata.obs['control'] = [1 if x == 'control' else 0 for x in adata.obs.condition.values]"
   ]
  },
  {
   "cell_type": "code",
   "execution_count": null,
   "metadata": {},
   "outputs": [],
   "source": [
    "import re\n",
    "def remove_parentheses(input_string):\n",
    "    result = re.sub(r'\\([^)]*\\)', '', input_string)\n",
    "    return result.strip() \n",
    "import pubchempy as pcp\n",
    "drug_names = list(np.unique(adata.obs['condition'].values))\n",
    "drug_smiles_dict = {}\n",
    "for i in range(len(drug_names)):\n",
    "    drug = drug_names[i]\n",
    "    mol = drug\n",
    "    if drug == 'MC1568':\n",
    "        mol = 'MC-1568'\n",
    "    if drug == 'Rucaparib (AG-014699PF-01367338) phosphate':\n",
    "        mol = 'Rucaparib phosphate'\n",
    "    print(drug, mol)\n",
    "    try:\n",
    "        compound = pcp.get_compounds(mol, 'name')[0]\n",
    "    except:\n",
    "        mol = remove_parentheses(mol)\n",
    "        compound = pcp.get_compounds(mol, 'name')[0]\n",
    "    smiles = compound.to_dict(properties=['canonical_smiles'])['canonical_smiles']\n",
    "    drug_smiles_dict[drug] = smiles"
   ]
  },
  {
   "cell_type": "code",
   "execution_count": 14,
   "metadata": {},
   "outputs": [],
   "source": [
    "import pickle\n",
    "# load dict of drug:SMILES\n",
    "with open('drug_dict.pkl','wb') as f:\n",
    "    drug_dict = pickle.load(f)"
   ]
  },
  {
   "cell_type": "code",
   "execution_count": 15,
   "metadata": {},
   "outputs": [],
   "source": [
    "adata.obs['SMILES'] = adata.obs.condition.map(drug_dict)"
   ]
  },
  {
   "cell_type": "code",
   "execution_count": 20,
   "metadata": {},
   "outputs": [
    {
     "data": {
      "text/plain": [
       "0"
      ]
     },
     "execution_count": 20,
     "metadata": {},
     "output_type": "execute_result"
    }
   ],
   "source": [
    "(adata.obs.condition=='nan').sum()"
   ]
  },
  {
   "cell_type": "code",
   "execution_count": 21,
   "metadata": {},
   "outputs": [],
   "source": [
    "adata.obs[\"SMILES\"] = adata.obs[\"SMILES\"].astype(\"category\").cat.rename_categories({\"\": \"CS(C)=O\"})"
   ]
  },
  {
   "cell_type": "code",
   "execution_count": 23,
   "metadata": {},
   "outputs": [],
   "source": [
    "from rdkit import Chem\n",
    "adata.obs.SMILES = adata.obs.SMILES.apply(Chem.CanonSmiles)"
   ]
  },
  {
   "cell_type": "code",
   "execution_count": null,
   "metadata": {},
   "outputs": [],
   "source": [
    "model_path = '/path/to/scGPT/model' # use cancer\n",
    "adata = scFM.calc_gpt(adata,model_path,gene_name='gene_name',return_key='X_scGPT')"
   ]
  },
  {
   "cell_type": "markdown",
   "metadata": {},
   "source": [
    "### generate train-test-ood split"
   ]
  },
  {
   "cell_type": "code",
   "execution_count": 5,
   "metadata": {},
   "outputs": [],
   "source": [
    "def split_dataset(adata,cell_types_inood,split_key):\n",
    "    # set all ood cell type samples as ood\n",
    "    adata.obs[split_key] = 'train'\n",
    "    setout_idx = adata[adata.obs.cell_type.isin(cell_types_inood)].obs.index\n",
    "    adata.obs[split_key].loc[setout_idx] = 'ood'\n",
    "\n",
    "    # set 20% left samples as test\n",
    "    def stratified_sample(group):\n",
    "        return group.sample(frac=0.2) \n",
    "\n",
    "    settest_idx = adata[adata.obs[split_key] != 'ood'].obs.groupby(['cell_type','condition'], group_keys=False).apply(stratified_sample).index\n",
    "    adata.obs[split_key].loc[settest_idx] = 'test'\n",
    "\n",
    "    # set 75% unperturbed ood cell type samples as train\n",
    "    def stratified_sample(group):\n",
    "        return group.sample(frac=0.75)\n",
    "    settrain_idx = adata[(adata.obs[split_key] == 'ood') & (adata.obs.control == 1)].obs.groupby(['cell_type','condition'], group_keys=False).apply(stratified_sample).index\n",
    "    adata.obs[split_key].loc[settrain_idx] = 'train'\n",
    "\n",
    "    return adata"
   ]
  },
  {
   "cell_type": "code",
   "execution_count": 22,
   "metadata": {},
   "outputs": [],
   "source": [
    "def split_dataset_drugs(adata,drugs_inood, celltype_inood, split_key):\n",
    "\n",
    "    # set all perturbed samples in ood cell type and drugs as ood\n",
    "    adata.obs[split_key] = 'train'\n",
    "    setout_idx = adata[(adata.obs.condition.isin(drugs_inood) | adata.obs.cell_type.isin(celltype_inood)) & (adata.obs.control==0)].obs.index\n",
    "    adata.obs[split_key].loc[setout_idx] = 'ood'\n",
    "\n",
    "    # set 15% left samples as test\n",
    "    def stratified_sample(group):\n",
    "        return group.sample(frac=0.15) \n",
    "\n",
    "    settest_idx = adata[adata.obs[split_key] != 'ood'].obs.groupby(['cell_type','condition'], group_keys=False).apply(stratified_sample).index\n",
    "    adata.obs[split_key].loc[settest_idx] = 'test'\n",
    "\n",
    "    # set 20% unperturbed samples in train set as ood\n",
    "    all_celltype = set(adata[adata.obs[split_key]!='ood'].obs.cell_type.values)\n",
    "    def stratified_sample(group):\n",
    "        return group.sample(frac=0.2)\n",
    "    settrain_idx = adata[(adata.obs.cell_type.isin(all_celltype)) & (adata.obs.control == 1) & (adata.obs[split_key]=='train')].obs.groupby(['cell_type','condition'], group_keys=False).apply(stratified_sample).index\n",
    "    adata.obs[split_key].loc[settrain_idx] = 'ood'\n",
    "\n",
    "    return adata"
   ]
  },
  {
   "cell_type": "code",
   "execution_count": 7,
   "metadata": {},
   "outputs": [
    {
     "data": {
      "text/plain": [
       "188"
      ]
     },
     "execution_count": 7,
     "metadata": {},
     "output_type": "execute_result"
    }
   ],
   "source": [
    "all_drugs = np.unique(adata.obs['condition'].values)\n",
    "len(all_drugs)"
   ]
  },
  {
   "cell_type": "code",
   "execution_count": 5,
   "metadata": {},
   "outputs": [],
   "source": [
    "selected = ['Dacinostat', \n",
    "            'Givinostat', \n",
    "            'Belinostat', \n",
    "            'Hesperadin', \n",
    "            'Quisinostat', \n",
    "            'Alvespimycin', \n",
    "            'Tanespimycin', \n",
    "            'TAK-901', \n",
    "            'Flavopiridol']"
   ]
  },
  {
   "cell_type": "code",
   "execution_count": null,
   "metadata": {},
   "outputs": [],
   "source": [
    "adata = split_dataset(adata,['A549'],'split')\n",
    "adata = split_dataset(adata,['K562'],'split2')\n",
    "adata = split_dataset(adata,['MCF7'],'split3')\n",
    "\n",
    "adata = split_dataset(adata,selected,['MCF7'],'split_drugs')\n",
    "adata = split_dataset(adata,selected,['A549'],'split_drugs2')\n",
    "adata = split_dataset(adata,selected,['K562'],'split_drugs3')"
   ]
  },
  {
   "cell_type": "code",
   "execution_count": 6,
   "metadata": {},
   "outputs": [
    {
     "data": {
      "text/html": [
       "<div>\n",
       "<style scoped>\n",
       "    .dataframe tbody tr th:only-of-type {\n",
       "        vertical-align: middle;\n",
       "    }\n",
       "\n",
       "    .dataframe tbody tr th {\n",
       "        vertical-align: top;\n",
       "    }\n",
       "\n",
       "    .dataframe thead th {\n",
       "        text-align: right;\n",
       "    }\n",
       "</style>\n",
       "<table border=\"1\" class=\"dataframe\">\n",
       "  <thead>\n",
       "    <tr style=\"text-align: right;\">\n",
       "      <th>cell_type</th>\n",
       "      <th>A549</th>\n",
       "      <th>K562</th>\n",
       "      <th>MCF7</th>\n",
       "    </tr>\n",
       "    <tr>\n",
       "      <th>split3</th>\n",
       "      <th></th>\n",
       "      <th></th>\n",
       "      <th></th>\n",
       "    </tr>\n",
       "  </thead>\n",
       "  <tbody>\n",
       "    <tr>\n",
       "      <th>ood</th>\n",
       "      <td>0</td>\n",
       "      <td>0</td>\n",
       "      <td>285652</td>\n",
       "    </tr>\n",
       "    <tr>\n",
       "      <th>test</th>\n",
       "      <td>27947</td>\n",
       "      <td>28681</td>\n",
       "      <td>0</td>\n",
       "    </tr>\n",
       "    <tr>\n",
       "      <th>train</th>\n",
       "      <td>111781</td>\n",
       "      <td>114712</td>\n",
       "      <td>0</td>\n",
       "    </tr>\n",
       "  </tbody>\n",
       "</table>\n",
       "</div>"
      ],
      "text/plain": [
       "cell_type    A549    K562    MCF7\n",
       "split3                           \n",
       "ood             0       0  285652\n",
       "test        27947   28681       0\n",
       "train      111781  114712       0"
      ]
     },
     "execution_count": 6,
     "metadata": {},
     "output_type": "execute_result"
    }
   ],
   "source": [
    "pd.crosstab(adata[adata.obs['control']==0].obs['split3'],adata[adata.obs['control']==0].obs['cell_type'])"
   ]
  },
  {
   "cell_type": "code",
   "execution_count": 7,
   "metadata": {},
   "outputs": [
    {
     "data": {
      "text/html": [
       "<div>\n",
       "<style scoped>\n",
       "    .dataframe tbody tr th:only-of-type {\n",
       "        vertical-align: middle;\n",
       "    }\n",
       "\n",
       "    .dataframe tbody tr th {\n",
       "        vertical-align: top;\n",
       "    }\n",
       "\n",
       "    .dataframe thead th {\n",
       "        text-align: right;\n",
       "    }\n",
       "</style>\n",
       "<table border=\"1\" class=\"dataframe\">\n",
       "  <thead>\n",
       "    <tr style=\"text-align: right;\">\n",
       "      <th>cell_type</th>\n",
       "      <th>A549</th>\n",
       "      <th>K562</th>\n",
       "      <th>MCF7</th>\n",
       "    </tr>\n",
       "    <tr>\n",
       "      <th>split2</th>\n",
       "      <th></th>\n",
       "      <th></th>\n",
       "      <th></th>\n",
       "    </tr>\n",
       "  </thead>\n",
       "  <tbody>\n",
       "    <tr>\n",
       "      <th>ood</th>\n",
       "      <td>0</td>\n",
       "      <td>143393</td>\n",
       "      <td>0</td>\n",
       "    </tr>\n",
       "    <tr>\n",
       "      <th>test</th>\n",
       "      <td>27947</td>\n",
       "      <td>0</td>\n",
       "      <td>57133</td>\n",
       "    </tr>\n",
       "    <tr>\n",
       "      <th>train</th>\n",
       "      <td>111781</td>\n",
       "      <td>0</td>\n",
       "      <td>228519</td>\n",
       "    </tr>\n",
       "  </tbody>\n",
       "</table>\n",
       "</div>"
      ],
      "text/plain": [
       "cell_type    A549    K562    MCF7\n",
       "split2                           \n",
       "ood             0  143393       0\n",
       "test        27947       0   57133\n",
       "train      111781       0  228519"
      ]
     },
     "execution_count": 7,
     "metadata": {},
     "output_type": "execute_result"
    }
   ],
   "source": [
    "pd.crosstab(adata[adata.obs['control']==0].obs['split2'],adata[adata.obs['control']==0].obs['cell_type'])"
   ]
  },
  {
   "cell_type": "code",
   "execution_count": 8,
   "metadata": {},
   "outputs": [
    {
     "data": {
      "text/html": [
       "<div>\n",
       "<style scoped>\n",
       "    .dataframe tbody tr th:only-of-type {\n",
       "        vertical-align: middle;\n",
       "    }\n",
       "\n",
       "    .dataframe tbody tr th {\n",
       "        vertical-align: top;\n",
       "    }\n",
       "\n",
       "    .dataframe thead th {\n",
       "        text-align: right;\n",
       "    }\n",
       "</style>\n",
       "<table border=\"1\" class=\"dataframe\">\n",
       "  <thead>\n",
       "    <tr style=\"text-align: right;\">\n",
       "      <th>cell_type</th>\n",
       "      <th>A549</th>\n",
       "      <th>K562</th>\n",
       "      <th>MCF7</th>\n",
       "    </tr>\n",
       "    <tr>\n",
       "      <th>split</th>\n",
       "      <th></th>\n",
       "      <th></th>\n",
       "      <th></th>\n",
       "    </tr>\n",
       "  </thead>\n",
       "  <tbody>\n",
       "    <tr>\n",
       "      <th>ood</th>\n",
       "      <td>139728</td>\n",
       "      <td>0</td>\n",
       "      <td>0</td>\n",
       "    </tr>\n",
       "    <tr>\n",
       "      <th>test</th>\n",
       "      <td>0</td>\n",
       "      <td>51641</td>\n",
       "      <td>102959</td>\n",
       "    </tr>\n",
       "    <tr>\n",
       "      <th>train</th>\n",
       "      <td>0</td>\n",
       "      <td>91752</td>\n",
       "      <td>182693</td>\n",
       "    </tr>\n",
       "  </tbody>\n",
       "</table>\n",
       "</div>"
      ],
      "text/plain": [
       "cell_type    A549   K562    MCF7\n",
       "split                           \n",
       "ood        139728      0       0\n",
       "test            0  51641  102959\n",
       "train           0  91752  182693"
      ]
     },
     "execution_count": 8,
     "metadata": {},
     "output_type": "execute_result"
    }
   ],
   "source": [
    "pd.crosstab(adata[adata.obs['control']==0].obs['split'],adata[adata.obs['control']==0].obs['cell_type'])"
   ]
  },
  {
   "cell_type": "markdown",
   "metadata": {},
   "source": [
    "### create sub adata which contains top 5000 hvg"
   ]
  },
  {
   "cell_type": "code",
   "execution_count": 17,
   "metadata": {},
   "outputs": [],
   "source": [
    "sc.pp.highly_variable_genes(adata, n_top_genes=5000, subset=False)"
   ]
  },
  {
   "cell_type": "code",
   "execution_count": 20,
   "metadata": {},
   "outputs": [],
   "source": [
    "adata_sub = adata[:, (adata.var.highly_variable)].copy()"
   ]
  },
  {
   "cell_type": "code",
   "execution_count": null,
   "metadata": {},
   "outputs": [],
   "source": [
    "rank_genes_groups_by_cov(adata_sub, groupby='cov_drug_dose_name', covariate='cell_type', control_group='control_0.0')"
   ]
  },
  {
   "cell_type": "code",
   "execution_count": 9,
   "metadata": {},
   "outputs": [
    {
     "data": {
      "text/plain": [
       "2244"
      ]
     },
     "execution_count": 9,
     "metadata": {},
     "output_type": "execute_result"
    }
   ],
   "source": [
    "len(adata_sub.uns['rank_genes_groups_cov'])"
   ]
  },
  {
   "cell_type": "code",
   "execution_count": null,
   "metadata": {},
   "outputs": [],
   "source": [
    "adata.write('path/to/sciplex_smiles_hvgenes_scgpt_resplit.h5ad')"
   ]
  },
  {
   "cell_type": "markdown",
   "metadata": {},
   "source": [
    "### create smiles df and calc rdkit smiles embeddinig\n",
    "\n",
    "We have provided calculated smiles embedding in /data/drug_embeddings folder. You can skip it in practice when reproduce experimental results"
   ]
  },
  {
   "cell_type": "code",
   "execution_count": 4,
   "metadata": {},
   "outputs": [],
   "source": [
    "drug_names = set(adata.obs['condition'])\n",
    "drugs_names_unique_sorted = np.array(sorted(drug_names))\n",
    "name_to_smiles_map = {\n",
    "    drug: smiles\n",
    "    for drug, smiles in adata.obs.groupby(\n",
    "        ['condition', 'SMILES']\n",
    "    ).groups.keys()\n",
    "}\n",
    "drug_smile_sorted = [name_to_smiles_map[name] for name in drugs_names_unique_sorted]      \n"
   ]
  },
  {
   "cell_type": "code",
   "execution_count": 24,
   "metadata": {},
   "outputs": [],
   "source": [
    "import numpy as np\n",
    "import pandas as pd\n",
    "smiles_df = pd.DataFrame({'smiles':drug_smile_sorted})\n",
    "smiles_df.to_csv('path/to/smiles/df')"
   ]
  },
  {
   "cell_type": "code",
   "execution_count": 110,
   "metadata": {},
   "outputs": [],
   "source": [
    "smiles_df_lincs = pd.read_csv('path/to/lincs/smiles/df',index_col=0)\n",
    "smiles_list_lincs = smiles_df_lincs['smiles'].values\n",
    "smiles_union = list(set(drug_smile_sorted).union(set(smiles_list_lincs)))\n",
    "smiles_union_df = pd.DataFrame({'smiles':list(smiles_union)})\n",
    "smiles_union_df.to_csv('path/to/merged/smiles/df')"
   ]
  },
  {
   "cell_type": "code",
   "execution_count": 132,
   "metadata": {},
   "outputs": [],
   "source": [
    "import pandas as pd\n",
    "from joblib import Parallel, delayed\n",
    "from tqdm.notebook import tqdm\n",
    "\n",
    "smiles_list = smiles_union_df['smiles'].values"
   ]
  },
  {
   "cell_type": "code",
   "execution_count": null,
   "metadata": {},
   "outputs": [],
   "source": [
    "from descriptastorus.descriptors.DescriptorGenerator import MakeGenerator\n",
    "generator = MakeGenerator((\"RDKit2D\",))"
   ]
  },
  {
   "cell_type": "code",
   "execution_count": null,
   "metadata": {},
   "outputs": [],
   "source": [
    "n_jobs = 16\n",
    "data = Parallel(n_jobs=n_jobs)(delayed(generator.process)(smiles) for smiles in tqdm(smiles_list, position=0, leave=True) )"
   ]
  },
  {
   "cell_type": "code",
   "execution_count": null,
   "metadata": {},
   "outputs": [],
   "source": [
    "embedding = np.array(data)"
   ]
  },
  {
   "cell_type": "code",
   "execution_count": null,
   "metadata": {},
   "outputs": [],
   "source": [
    "drug_idx, feature_idx = np.where(np.isnan(embedding))"
   ]
  },
  {
   "cell_type": "code",
   "execution_count": 138,
   "metadata": {},
   "outputs": [],
   "source": [
    "drug_idx_infs, feature_idx_infs = np.where(np.isinf(embedding))\n",
    "\n",
    "drug_idx = np.concatenate((drug_idx, drug_idx_infs))\n",
    "feature_idx = np.concatenate((feature_idx, feature_idx_infs))\n",
    "embedding[drug_idx, feature_idx] = 0"
   ]
  },
  {
   "cell_type": "code",
   "execution_count": 139,
   "metadata": {},
   "outputs": [
    {
     "name": "stdout",
     "output_type": "stream",
     "text": [
      "Deleting columns with std<=0.01: ['latent_90', 'latent_103', 'latent_152', 'latent_164', 'latent_187', 'latent_196']\n"
     ]
    }
   ],
   "source": [
    "import pandas as pd\n",
    "\n",
    "df = pd.DataFrame(data=embedding,index=smiles_list,columns=[f'latent_{i}' for i in range(embedding.shape[1])]) \n",
    "\n",
    "# Drop first feature from generator (RDKit2D_calculated)\n",
    "df.drop(columns=['latent_0'], inplace=True)\n",
    "\n",
    "# Drop columns with 0 standard deviation\n",
    "threshold = 0.01\n",
    "columns=[f'latent_{idx+1}' for idx in np.where(df.std() <= threshold)[0]]\n",
    "print(f'Deleting columns with std<={threshold}: {columns}')\n",
    "df.drop(columns=[f'latent_{idx+1}' for idx in np.where(df.std() <= 0.01)[0]], inplace=True)"
   ]
  },
  {
   "cell_type": "code",
   "execution_count": null,
   "metadata": {},
   "outputs": [],
   "source": [
    "normalized_df=(df-df.mean())/df.std()"
   ]
  },
  {
   "cell_type": "code",
   "execution_count": 141,
   "metadata": {},
   "outputs": [],
   "source": [
    "normalized_df.to_parquet('path/to/drug/embedding')"
   ]
  },
  {
   "cell_type": "code",
   "execution_count": null,
   "metadata": {},
   "outputs": [],
   "source": []
  }
 ],
 "metadata": {
  "kernelspec": {
   "display_name": "xinyuan",
   "language": "python",
   "name": "python3"
  },
  "language_info": {
   "codemirror_mode": {
    "name": "ipython",
    "version": 3
   },
   "file_extension": ".py",
   "mimetype": "text/x-python",
   "name": "python",
   "nbconvert_exporter": "python",
   "pygments_lexer": "ipython3",
   "version": "3.9.20"
  }
 },
 "nbformat": 4,
 "nbformat_minor": 2
}
